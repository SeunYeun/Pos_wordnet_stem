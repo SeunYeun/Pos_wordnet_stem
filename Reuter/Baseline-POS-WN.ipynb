{
 "cells": [
  {
   "cell_type": "code",
   "execution_count": 1,
   "id": "d5cf6cdb",
   "metadata": {},
   "outputs": [
    {
     "name": "stderr",
     "output_type": "stream",
     "text": [
      "[nltk_data] Downloading package wordnet to\n",
      "[nltk_data]     /Users/tuankietnguyen/nltk_data...\n",
      "[nltk_data]   Package wordnet is already up-to-date!\n",
      "[nltk_data] Downloading package averaged_perceptron_tagger_eng to\n",
      "[nltk_data]     /Users/tuankietnguyen/nltk_data...\n",
      "[nltk_data]   Package averaged_perceptron_tagger_eng is already up-to-\n",
      "[nltk_data]       date!\n"
     ]
    },
    {
     "data": {
      "text/plain": [
       "True"
      ]
     },
     "execution_count": 1,
     "metadata": {},
     "output_type": "execute_result"
    }
   ],
   "source": [
    "import nltk\n",
    "nltk.download('wordnet')\n",
    "nltk.download('averaged_perceptron_tagger_eng')\n"
   ]
  },
  {
   "cell_type": "code",
   "execution_count": 2,
   "id": "205aa343",
   "metadata": {},
   "outputs": [
    {
     "name": "stdout",
     "output_type": "stream",
     "text": [
      "📊 Tổng số bài viết: 21578\n",
      "📌 Các cột: ['id', 'title', 'body', 'topics']\n",
      "\n",
      "📝 Xem Thông tin:\n",
      "<class 'pandas.core.frame.DataFrame'>\n",
      "RangeIndex: 21578 entries, 0 to 21577\n",
      "Data columns (total 4 columns):\n",
      " #   Column  Non-Null Count  Dtype \n",
      "---  ------  --------------  ----- \n",
      " 0   id      21578 non-null  int64 \n",
      " 1   title   20841 non-null  object\n",
      " 2   body    19043 non-null  object\n",
      " 3   topics  11367 non-null  object\n",
      "dtypes: int64(1), object(3)\n",
      "memory usage: 674.4+ KB\n",
      "None\n",
      "<class 'pandas.core.frame.DataFrame'>\n",
      "RangeIndex: 19043 entries, 0 to 19042\n",
      "Data columns (total 4 columns):\n",
      " #   Column  Non-Null Count  Dtype \n",
      "---  ------  --------------  ----- \n",
      " 0   id      19043 non-null  int64 \n",
      " 1   title   19043 non-null  object\n",
      " 2   body    19043 non-null  object\n",
      " 3   topics  10377 non-null  object\n",
      "dtypes: int64(1), object(3)\n",
      "memory usage: 595.2+ KB\n",
      "None\n"
     ]
    }
   ],
   "source": [
    "import pandas as pd\n",
    "\n",
    "df_pd = pd.read_csv(\"../Data/csv/reuters_all.csv\")\n",
    "# df_pd = df_pd.sample(n=5, random_state=42)\n",
    "print(\"📊 Tổng số bài viết:\", len(df_pd))\n",
    "print(\"📌 Các cột:\", df_pd.columns.tolist())\n",
    "print(\"\\n📝 Xem Thông tin:\")\n",
    "print(df_pd.info())\n",
    "df_pd = df_pd.dropna(subset=['body'])\n",
    "df_pd = df_pd.reset_index(drop=True)\n",
    "print(df_pd.info())"
   ]
  },
  {
   "cell_type": "code",
   "execution_count": 3,
   "id": "e1cf51c4",
   "metadata": {},
   "outputs": [
    {
     "name": "stderr",
     "output_type": "stream",
     "text": [
      "25/07/03 23:15:50 WARN Utils: Your hostname, MBP-of-Yeun.local resolves to a loopback address: 127.0.0.1; using 192.168.50.97 instead (on interface en0)\n",
      "25/07/03 23:15:50 WARN Utils: Set SPARK_LOCAL_IP if you need to bind to another address\n",
      "Ivy Default Cache set to: /Users/tuankietnguyen/.ivy2/cache\n",
      "The jars for the packages stored in: /Users/tuankietnguyen/.ivy2/jars\n",
      "com.johnsnowlabs.nlp#spark-nlp_2.12 added as a dependency\n",
      ":: resolving dependencies :: org.apache.spark#spark-submit-parent-c92c572f-1af1-4c1f-909b-2abb71e06db3;1.0\n",
      "\tconfs: [default]\n"
     ]
    },
    {
     "name": "stdout",
     "output_type": "stream",
     "text": [
      ":: loading settings :: url = jar:file:/opt/spark/jars/ivy-2.5.1.jar!/org/apache/ivy/core/settings/ivysettings.xml\n"
     ]
    },
    {
     "name": "stderr",
     "output_type": "stream",
     "text": [
      "\tfound com.johnsnowlabs.nlp#spark-nlp_2.12;5.3.3 in central\n",
      "\tfound com.typesafe#config;1.4.2 in central\n",
      "\tfound org.rocksdb#rocksdbjni;6.29.5 in central\n",
      "\tfound com.amazonaws#aws-java-sdk-s3;1.12.500 in central\n",
      "\tfound com.amazonaws#aws-java-sdk-kms;1.12.500 in central\n",
      "\tfound com.amazonaws#aws-java-sdk-core;1.12.500 in central\n",
      "\tfound commons-logging#commons-logging;1.1.3 in central\n",
      "\tfound commons-codec#commons-codec;1.15 in central\n",
      "\tfound org.apache.httpcomponents#httpclient;4.5.13 in central\n",
      "\tfound org.apache.httpcomponents#httpcore;4.4.13 in central\n",
      "\tfound software.amazon.ion#ion-java;1.0.2 in central\n",
      "\tfound joda-time#joda-time;2.8.1 in central\n",
      "\tfound com.amazonaws#jmespath-java;1.12.500 in central\n",
      "\tfound com.github.universal-automata#liblevenshtein;3.0.0 in central\n",
      "\tfound com.google.protobuf#protobuf-java-util;3.0.0-beta-3 in central\n",
      "\tfound com.google.protobuf#protobuf-java;3.0.0-beta-3 in central\n",
      "\tfound com.google.code.gson#gson;2.3 in central\n",
      "\tfound it.unimi.dsi#fastutil;7.0.12 in central\n",
      "\tfound org.projectlombok#lombok;1.16.8 in central\n",
      "\tfound com.google.cloud#google-cloud-storage;2.20.1 in central\n",
      "\tfound com.google.guava#guava;31.1-jre in central\n",
      "\tfound com.google.guava#failureaccess;1.0.1 in central\n",
      "\tfound com.google.guava#listenablefuture;9999.0-empty-to-avoid-conflict-with-guava in central\n",
      "\tfound com.google.errorprone#error_prone_annotations;2.18.0 in central\n",
      "\tfound com.google.j2objc#j2objc-annotations;1.3 in central\n",
      "\tfound com.google.http-client#google-http-client;1.43.0 in central\n",
      "\tfound io.opencensus#opencensus-contrib-http-util;0.31.1 in central\n",
      "\tfound com.google.http-client#google-http-client-jackson2;1.43.0 in central\n",
      "\tfound com.google.http-client#google-http-client-gson;1.43.0 in central\n",
      "\tfound com.google.api-client#google-api-client;2.2.0 in central\n",
      "\tfound com.google.oauth-client#google-oauth-client;1.34.1 in central\n",
      "\tfound com.google.http-client#google-http-client-apache-v2;1.43.0 in central\n",
      "\tfound com.google.apis#google-api-services-storage;v1-rev20220705-2.0.0 in central\n",
      "\tfound com.google.code.gson#gson;2.10.1 in central\n",
      "\tfound com.google.cloud#google-cloud-core;2.12.0 in central\n",
      "\tfound io.grpc#grpc-context;1.53.0 in central\n",
      "\tfound com.google.auto.value#auto-value-annotations;1.10.1 in central\n",
      "\tfound com.google.auto.value#auto-value;1.10.1 in central\n",
      "\tfound javax.annotation#javax.annotation-api;1.3.2 in central\n",
      "\tfound com.google.cloud#google-cloud-core-http;2.12.0 in central\n",
      "\tfound com.google.http-client#google-http-client-appengine;1.43.0 in central\n",
      "\tfound com.google.api#gax-httpjson;0.108.2 in central\n",
      "\tfound com.google.cloud#google-cloud-core-grpc;2.12.0 in central\n",
      "\tfound io.grpc#grpc-alts;1.53.0 in central\n",
      "\tfound io.grpc#grpc-grpclb;1.53.0 in central\n",
      "\tfound org.conscrypt#conscrypt-openjdk-uber;2.5.2 in central\n",
      "\tfound io.grpc#grpc-auth;1.53.0 in central\n",
      "\tfound io.grpc#grpc-protobuf;1.53.0 in central\n",
      "\tfound io.grpc#grpc-protobuf-lite;1.53.0 in central\n",
      "\tfound io.grpc#grpc-core;1.53.0 in central\n",
      "\tfound com.google.api#gax;2.23.2 in central\n",
      "\tfound com.google.api#gax-grpc;2.23.2 in central\n",
      "\tfound com.google.auth#google-auth-library-credentials;1.16.0 in central\n",
      "\tfound com.google.auth#google-auth-library-oauth2-http;1.16.0 in central\n",
      "\tfound com.google.api#api-common;2.6.2 in central\n",
      "\tfound io.opencensus#opencensus-api;0.31.1 in central\n",
      "\tfound com.google.api.grpc#proto-google-iam-v1;1.9.2 in central\n",
      "\tfound com.google.protobuf#protobuf-java;3.21.12 in central\n",
      "\tfound com.google.protobuf#protobuf-java-util;3.21.12 in central\n",
      "\tfound com.google.api.grpc#proto-google-common-protos;2.14.2 in central\n",
      "\tfound org.threeten#threetenbp;1.6.5 in central\n",
      "\tfound com.google.api.grpc#proto-google-cloud-storage-v2;2.20.1-alpha in central\n",
      "\tfound com.google.api.grpc#grpc-google-cloud-storage-v2;2.20.1-alpha in central\n",
      "\tfound com.google.api.grpc#gapic-google-cloud-storage-v2;2.20.1-alpha in central\n",
      "\tfound com.google.code.findbugs#jsr305;3.0.2 in central\n",
      "\tfound io.grpc#grpc-api;1.53.0 in central\n",
      "\tfound io.grpc#grpc-stub;1.53.0 in central\n",
      "\tfound org.checkerframework#checker-qual;3.31.0 in central\n",
      "\tfound io.perfmark#perfmark-api;0.26.0 in central\n",
      "\tfound com.google.android#annotations;4.1.1.4 in central\n",
      "\tfound org.codehaus.mojo#animal-sniffer-annotations;1.22 in central\n",
      "\tfound io.opencensus#opencensus-proto;0.2.0 in central\n",
      "\tfound io.grpc#grpc-services;1.53.0 in central\n",
      "\tfound com.google.re2j#re2j;1.6 in central\n",
      "\tfound io.grpc#grpc-netty-shaded;1.53.0 in central\n",
      "\tfound io.grpc#grpc-googleapis;1.53.0 in central\n",
      "\tfound io.grpc#grpc-xds;1.53.0 in central\n",
      "\tfound com.navigamez#greex;1.0 in central\n",
      "\tfound dk.brics.automaton#automaton;1.11-8 in central\n",
      "\tfound com.johnsnowlabs.nlp#tensorflow-cpu_2.12;0.4.4 in central\n",
      "\tfound com.microsoft.onnxruntime#onnxruntime;1.17.0 in central\n",
      ":: resolution report :: resolve 615ms :: artifacts dl 19ms\n",
      "\t:: modules in use:\n",
      "\tcom.amazonaws#aws-java-sdk-core;1.12.500 from central in [default]\n",
      "\tcom.amazonaws#aws-java-sdk-kms;1.12.500 from central in [default]\n",
      "\tcom.amazonaws#aws-java-sdk-s3;1.12.500 from central in [default]\n",
      "\tcom.amazonaws#jmespath-java;1.12.500 from central in [default]\n",
      "\tcom.github.universal-automata#liblevenshtein;3.0.0 from central in [default]\n",
      "\tcom.google.android#annotations;4.1.1.4 from central in [default]\n",
      "\tcom.google.api#api-common;2.6.2 from central in [default]\n",
      "\tcom.google.api#gax;2.23.2 from central in [default]\n",
      "\tcom.google.api#gax-grpc;2.23.2 from central in [default]\n",
      "\tcom.google.api#gax-httpjson;0.108.2 from central in [default]\n",
      "\tcom.google.api-client#google-api-client;2.2.0 from central in [default]\n",
      "\tcom.google.api.grpc#gapic-google-cloud-storage-v2;2.20.1-alpha from central in [default]\n",
      "\tcom.google.api.grpc#grpc-google-cloud-storage-v2;2.20.1-alpha from central in [default]\n",
      "\tcom.google.api.grpc#proto-google-cloud-storage-v2;2.20.1-alpha from central in [default]\n",
      "\tcom.google.api.grpc#proto-google-common-protos;2.14.2 from central in [default]\n",
      "\tcom.google.api.grpc#proto-google-iam-v1;1.9.2 from central in [default]\n",
      "\tcom.google.apis#google-api-services-storage;v1-rev20220705-2.0.0 from central in [default]\n",
      "\tcom.google.auth#google-auth-library-credentials;1.16.0 from central in [default]\n",
      "\tcom.google.auth#google-auth-library-oauth2-http;1.16.0 from central in [default]\n",
      "\tcom.google.auto.value#auto-value;1.10.1 from central in [default]\n",
      "\tcom.google.auto.value#auto-value-annotations;1.10.1 from central in [default]\n",
      "\tcom.google.cloud#google-cloud-core;2.12.0 from central in [default]\n",
      "\tcom.google.cloud#google-cloud-core-grpc;2.12.0 from central in [default]\n",
      "\tcom.google.cloud#google-cloud-core-http;2.12.0 from central in [default]\n",
      "\tcom.google.cloud#google-cloud-storage;2.20.1 from central in [default]\n",
      "\tcom.google.code.findbugs#jsr305;3.0.2 from central in [default]\n",
      "\tcom.google.code.gson#gson;2.10.1 from central in [default]\n",
      "\tcom.google.errorprone#error_prone_annotations;2.18.0 from central in [default]\n",
      "\tcom.google.guava#failureaccess;1.0.1 from central in [default]\n",
      "\tcom.google.guava#guava;31.1-jre from central in [default]\n",
      "\tcom.google.guava#listenablefuture;9999.0-empty-to-avoid-conflict-with-guava from central in [default]\n",
      "\tcom.google.http-client#google-http-client;1.43.0 from central in [default]\n",
      "\tcom.google.http-client#google-http-client-apache-v2;1.43.0 from central in [default]\n",
      "\tcom.google.http-client#google-http-client-appengine;1.43.0 from central in [default]\n",
      "\tcom.google.http-client#google-http-client-gson;1.43.0 from central in [default]\n",
      "\tcom.google.http-client#google-http-client-jackson2;1.43.0 from central in [default]\n",
      "\tcom.google.j2objc#j2objc-annotations;1.3 from central in [default]\n",
      "\tcom.google.oauth-client#google-oauth-client;1.34.1 from central in [default]\n",
      "\tcom.google.protobuf#protobuf-java;3.21.12 from central in [default]\n",
      "\tcom.google.protobuf#protobuf-java-util;3.21.12 from central in [default]\n",
      "\tcom.google.re2j#re2j;1.6 from central in [default]\n",
      "\tcom.johnsnowlabs.nlp#spark-nlp_2.12;5.3.3 from central in [default]\n",
      "\tcom.johnsnowlabs.nlp#tensorflow-cpu_2.12;0.4.4 from central in [default]\n",
      "\tcom.microsoft.onnxruntime#onnxruntime;1.17.0 from central in [default]\n",
      "\tcom.navigamez#greex;1.0 from central in [default]\n",
      "\tcom.typesafe#config;1.4.2 from central in [default]\n",
      "\tcommons-codec#commons-codec;1.15 from central in [default]\n",
      "\tcommons-logging#commons-logging;1.1.3 from central in [default]\n",
      "\tdk.brics.automaton#automaton;1.11-8 from central in [default]\n",
      "\tio.grpc#grpc-alts;1.53.0 from central in [default]\n",
      "\tio.grpc#grpc-api;1.53.0 from central in [default]\n",
      "\tio.grpc#grpc-auth;1.53.0 from central in [default]\n",
      "\tio.grpc#grpc-context;1.53.0 from central in [default]\n",
      "\tio.grpc#grpc-core;1.53.0 from central in [default]\n",
      "\tio.grpc#grpc-googleapis;1.53.0 from central in [default]\n",
      "\tio.grpc#grpc-grpclb;1.53.0 from central in [default]\n",
      "\tio.grpc#grpc-netty-shaded;1.53.0 from central in [default]\n",
      "\tio.grpc#grpc-protobuf;1.53.0 from central in [default]\n",
      "\tio.grpc#grpc-protobuf-lite;1.53.0 from central in [default]\n",
      "\tio.grpc#grpc-services;1.53.0 from central in [default]\n",
      "\tio.grpc#grpc-stub;1.53.0 from central in [default]\n",
      "\tio.grpc#grpc-xds;1.53.0 from central in [default]\n",
      "\tio.opencensus#opencensus-api;0.31.1 from central in [default]\n",
      "\tio.opencensus#opencensus-contrib-http-util;0.31.1 from central in [default]\n",
      "\tio.opencensus#opencensus-proto;0.2.0 from central in [default]\n",
      "\tio.perfmark#perfmark-api;0.26.0 from central in [default]\n",
      "\tit.unimi.dsi#fastutil;7.0.12 from central in [default]\n",
      "\tjavax.annotation#javax.annotation-api;1.3.2 from central in [default]\n",
      "\tjoda-time#joda-time;2.8.1 from central in [default]\n",
      "\torg.apache.httpcomponents#httpclient;4.5.13 from central in [default]\n",
      "\torg.apache.httpcomponents#httpcore;4.4.13 from central in [default]\n",
      "\torg.checkerframework#checker-qual;3.31.0 from central in [default]\n",
      "\torg.codehaus.mojo#animal-sniffer-annotations;1.22 from central in [default]\n",
      "\torg.conscrypt#conscrypt-openjdk-uber;2.5.2 from central in [default]\n",
      "\torg.projectlombok#lombok;1.16.8 from central in [default]\n",
      "\torg.rocksdb#rocksdbjni;6.29.5 from central in [default]\n",
      "\torg.threeten#threetenbp;1.6.5 from central in [default]\n",
      "\tsoftware.amazon.ion#ion-java;1.0.2 from central in [default]\n",
      "\t:: evicted modules:\n",
      "\tcommons-logging#commons-logging;1.2 by [commons-logging#commons-logging;1.1.3] in [default]\n",
      "\tcommons-codec#commons-codec;1.11 by [commons-codec#commons-codec;1.15] in [default]\n",
      "\tcom.google.protobuf#protobuf-java-util;3.0.0-beta-3 by [com.google.protobuf#protobuf-java-util;3.21.12] in [default]\n",
      "\tcom.google.protobuf#protobuf-java;3.0.0-beta-3 by [com.google.protobuf#protobuf-java;3.21.12] in [default]\n",
      "\tcom.google.code.gson#gson;2.3 by [com.google.code.gson#gson;2.10.1] in [default]\n",
      "\t---------------------------------------------------------------------\n",
      "\t|                  |            modules            ||   artifacts   |\n",
      "\t|       conf       | number| search|dwnlded|evicted|| number|dwnlded|\n",
      "\t---------------------------------------------------------------------\n",
      "\t|      default     |   83  |   0   |   0   |   5   ||   78  |   0   |\n",
      "\t---------------------------------------------------------------------\n",
      ":: retrieving :: org.apache.spark#spark-submit-parent-c92c572f-1af1-4c1f-909b-2abb71e06db3\n",
      "\tconfs: [default]\n",
      "\t0 artifacts copied, 78 already retrieved (0kB/10ms)\n",
      "25/07/03 23:15:50 WARN NativeCodeLoader: Unable to load native-hadoop library for your platform... using builtin-java classes where applicable\n",
      "Setting default log level to \"WARN\".\n",
      "To adjust logging level use sc.setLogLevel(newLevel). For SparkR, use setLogLevel(newLevel).\n",
      "25/07/03 23:15:51 WARN Utils: Service 'SparkUI' could not bind on port 4040. Attempting port 4041.\n",
      "25/07/03 23:15:51 WARN Utils: Service 'SparkUI' could not bind on port 4041. Attempting port 4042.\n",
      "[Stage 0:>                                                          (0 + 1) / 1]\r"
     ]
    },
    {
     "name": "stdout",
     "output_type": "stream",
     "text": [
      "+---+--------------------+--------------------+--------------------+\n",
      "| id|               title|                body|              topics|\n",
      "+---+--------------------+--------------------+--------------------+\n",
      "|  1|  BAHIA COCOA REVIEW|BAHIA COCOA REVIE...|               cocoa|\n",
      "|  2|STANDARD OIL <SRD...|STANDARD OIL <SRD...|                 NaN|\n",
      "|  3|TEXAS COMMERCE BA...|TEXAS COMMERCE BA...|                 NaN|\n",
      "|  4|TALKING POINT/BAN...|TALKING POINT/BAN...|                 NaN|\n",
      "|  5|NATIONAL AVERAGE ...|NATIONAL AVERAGE ...|grain;wheat;corn;...|\n",
      "+---+--------------------+--------------------+--------------------+\n",
      "only showing top 5 rows\n",
      "\n"
     ]
    },
    {
     "name": "stderr",
     "output_type": "stream",
     "text": [
      "                                                                                \r"
     ]
    }
   ],
   "source": [
    "from pyspark.sql import SparkSession\n",
    "from pyspark.sql.functions import concat_ws, col\n",
    "import os\n",
    "\n",
    "os.environ[\"OBJC_DISABLE_INITIALIZE_FORK_SAFETY\"] = \"YES\"\n",
    "from pyspark.sql import SparkSession\n",
    "\n",
    "spark = SparkSession.builder \\\n",
    "    .appName(\"SemanticsBasedDistributedDocumentClustering_SparkNLP\") \\\n",
    "    .config(\"spark.executor.memory\", \"4g\") \\\n",
    "    .config(\"spark.driver.memory\", \"4g\") \\\n",
    "    .config(\"spark.jars.packages\", \"com.johnsnowlabs.nlp:spark-nlp_2.12:5.3.3\") \\\n",
    "    .config(\"spark.executorEnv.NLTK_DATA\", \"/Users/tuankietnguyen/nltk_data\") \\\n",
    "    .getOrCreate()\n",
    "spark.sparkContext.setLogLevel(\"ERROR\")\n",
    "df = spark.createDataFrame(df_pd)\n",
    "\n",
    "df = df.withColumn(\"body\", concat_ws(\" \", col(\"title\"), col(\"body\")))\n",
    "df.show(5)"
   ]
  },
  {
   "cell_type": "code",
   "execution_count": 4,
   "id": "80e54373",
   "metadata": {},
   "outputs": [
    {
     "name": "stdout",
     "output_type": "stream",
     "text": [
      "stopwords_en download started this may take some time.\n",
      "Approximate size to download 2.9 KB\n",
      "[ / ]stopwords_en download started this may take some time.\n",
      "Approximate size to download 2.9 KB\n",
      "Download done! Loading the resource.\n",
      "[OK!]\n",
      "pos_anc download started this may take some time.\n",
      "Approximate size to download 3.9 MB\n",
      "[ | ]pos_anc download started this may take some time.\n",
      "Approximate size to download 3.9 MB\n",
      "[ / ]Download done! Loading the resource.\n"
     ]
    },
    {
     "name": "stderr",
     "output_type": "stream",
     "text": [
      "                                                                                \r"
     ]
    },
    {
     "name": "stdout",
     "output_type": "stream",
     "text": [
      "[OK!]\n",
      "lemma_antbnc download started this may take some time.\n",
      "Approximate size to download 907.6 KB\n",
      "[ | ]lemma_antbnc download started this may take some time.\n",
      "Approximate size to download 907.6 KB\n",
      "[ / ]Download done! Loading the resource.\n"
     ]
    },
    {
     "name": "stderr",
     "output_type": "stream",
     "text": [
      "OpenJDK 64-Bit Server VM warning: CodeCache is full. Compiler has been disabled.\n",
      "OpenJDK 64-Bit Server VM warning: Try increasing the code cache size using -XX:ReservedCodeCacheSize=\n"
     ]
    },
    {
     "name": "stdout",
     "output_type": "stream",
     "text": [
      "CodeCache: size=131072Kb used=30283Kb max_used=30468Kb free=100788Kb\n",
      " bounds [0x0000000106184000, 0x0000000107f74000, 0x000000010e184000]\n",
      " total_blobs=11169 nmethods=10214 adapters=867\n",
      " compilation: disabled (not enough contiguous free space left)\n",
      "[OK!]\n",
      "⏳ Bắt đầu tiền xử lý với Spark NLP...\n",
      "✅ Xong bước NLP\n"
     ]
    },
    {
     "name": "stderr",
     "output_type": "stream",
     "text": [
      "[Stage 8:>                                                          (0 + 1) / 1]\r"
     ]
    },
    {
     "name": "stdout",
     "output_type": "stream",
     "text": [
      "+-----------------------------------------------------------------------------------------------------------------------------------------------------------------------------------------------------------------------------------------------------------------------------------------------------------------------------------------------------------------------------------------------------------------------------------------------------------------------------------------------------------------------------------------------------------------------------------------------------------------------------------------------------------------------------------------------------------------------------------------------------------------------------------------------------------------------------------------------------------------------------------------------------------------------------------------------------------------------------------------------------------------------------------------------------------------------------------------------------------------------------------------------------------------------------------------------------------------------------------------------------------------------------------------------------------------------------------------------------------------------------------------------------------------------------------------------------------------------------------------------------------------------------------------------------------------------------------------------------------------------------------------------------------------------------------------------------------------------------------------------------------------------------------------------------------------------------------------------------------------------------------------------------------------------------------------------------+------------------------------------------------------------------------------------------------------------------------------------------------------------------------------------------------------------------------------------------------------------------------------------------------------------------------------------------------------------------------------------------------------------------------------------------------------------------------------------------------------------------------------------------------------------------------------------------------------------------------------------------------------------------------------------------------------------------------------------------------------------------------------------------------------------------------------------------------------------------------------------------------------------------------------------------------------------------------------------------------------------------------------------------------------------------------------------------+\n",
      "|fin_tokens                                                                                                                                                                                                                                                                                                                                                                                                                                                                                                                                                                                                                                                                                                                                                                                                                                                                                                                                                                                                                                                                                                                                                                                                                                                                                                                                                                                                                                                                                                                                                                                                                                                                                                                                                                                                                                                                                                                                           |final_pos                                                                                                                                                                                                                                                                                                                                                                                                                                                                                                                                                                                                                                                                                                                                                                                                                                                                                                                                                                                                                                                                                 |\n",
      "+-----------------------------------------------------------------------------------------------------------------------------------------------------------------------------------------------------------------------------------------------------------------------------------------------------------------------------------------------------------------------------------------------------------------------------------------------------------------------------------------------------------------------------------------------------------------------------------------------------------------------------------------------------------------------------------------------------------------------------------------------------------------------------------------------------------------------------------------------------------------------------------------------------------------------------------------------------------------------------------------------------------------------------------------------------------------------------------------------------------------------------------------------------------------------------------------------------------------------------------------------------------------------------------------------------------------------------------------------------------------------------------------------------------------------------------------------------------------------------------------------------------------------------------------------------------------------------------------------------------------------------------------------------------------------------------------------------------------------------------------------------------------------------------------------------------------------------------------------------------------------------------------------------------------------------------------------------+------------------------------------------------------------------------------------------------------------------------------------------------------------------------------------------------------------------------------------------------------------------------------------------------------------------------------------------------------------------------------------------------------------------------------------------------------------------------------------------------------------------------------------------------------------------------------------------------------------------------------------------------------------------------------------------------------------------------------------------------------------------------------------------------------------------------------------------------------------------------------------------------------------------------------------------------------------------------------------------------------------------------------------------------------------------------------------------+\n",
      "|[bahia, cocoa, review, shower, continue, week, bahia, cocoa, zone, alleviate, drought, early, january, improve, prospect, come, temporao, normal, humidity, level, restore, comissaria, smith, weekly, review, dry, period, mean, temporao, late, year, arrival, week, end, february, bag, kilo, make, cumulative, total, season, mln, stage, year, cocoa, deliver, early, consignment, include, arrival, figure, comissaria, smith, doubt, crop, cocoa, harvest, practically, end, total, bahia, crop, estimate, mln, bag, sales, stand, mln, hundred, thousand, bag, hand, farmer, middleman, exporter, processor, doubt, cocoa, fit, export, shipper, experience, dificulties, obtain, bahia, superior, certificate, view, low, quality, recent, week, farmer, sell, good, part, cocoa, hold, consignment, comissaria, smith, spot, bean, price, rise, cruzado, arroba, kilo, bean, shipper, reluctant, offer, nearby, shipment, limit, sales, book, march, shipment, dlrs, tonne, port, name, crop, sales, light, open, port, junejuly, dlrs, dlrs, york, july, augsept, dlrs, tonne, fob, routine, sales, butter, make, marchapril, sell, dlrs, aprilmay, butter, time, york, junejuly, dlrs, augsept, dlrs, time, york, sept, octdec, dlrs, time, york, dec, comissaria, smith, destination, we, covertible, currency, area, uruguay, open, port, cake, sales, register, dlrs, marchapril, dlrs, dlrs, aug, time, york, dec, octdec, buyer, we, argentina, uruguay, convertible, currency, area, liquor, sales, limit, marchapril, sell, dlrs, junejuly, dlrs, time, york, july, augsept, dlrs, time, york, sept, octdec, time, york, dec, comissaria, smith, total, bahia, sales, estimate, mln, bag, crop, mln, bag, crop, final, figure, period, february, expect, publish, brazilian, cocoa, trade, commission, carnival, end, midday, february, reuter]                                                                                   |[NN, NN, NN, NNS, VBD, NN, NN, NN, NN, VBG, NN, JJ, NNP, VBG, NNS, VBG, NN, JJ, NN, NNS, VBN, NN, NN, JJ, NN, JJ, NN, VBZ, NN, JJ, NN, NNS, NN, VBD, NNP, NNS, NNS, VBG, JJ, JJ, NN, NN, NN, NN, NN, VBN, RBR, NN, VBD, NNS, NNS, VBP, NN, NN, NN, NN, VBG, RB, JJ, JJ, NN, NN, NNS, NN, NNS, NNS, VBG, NN, CD, CD, NNS, NNS, NNS, VBP, NNS, NNS, VBP, NN, NN, NN, NNS, VBG, NNS, VBG, NN, JJ, NNS, NN, JJR, NN, JJ, NNS, NNS, VBD, JJ, NN, NN, VBN, NN, NNS, NN, NN, NN, NNS, VBD, NN, NN, NN, JJ, NNS, JJ, NN, JJ, NN, JJ, NNS, VBN, NN, NN, NN, NN, NNS, VBN, NN, NNS, JJ, JJ, NNS, RB, VBP, NN, NNP, NNP, VBD, NN, NN, NN, JJ, NNS, NN, VBN, NN, VBD, NN, MD, VB, NNS, NNP, RB, NN, VBD, JJ, NNS, NNP, VBD, JJ, NN, NNS, NNP, VBD, NN, NN, NNS, PRP, JJ, NN, NNS, NN, JJ, NNS, VBP, NNS, VBN, NN, NN, NN, NN, NN, NNS, NNP, NN, NN, NNS, PRP, VBD, JJ, JJ, NN, NNS, NN, NNS, JJ, NN, VBG, NN, RB, JJ, NNS, NNP, NNP, VBD, JJ, NNS, NNP, VBD, JJ, NNS, NNP, VBD, NNS, NN, JJ, NN, NNS, VBN, NN, NNS, NN, NN, NNS, NN, JJ, NNS, NN, NNP, VBD, VBN, JJ, NN, NN, NN, NN, VBZ, NN, NNP, NN]|\n",
      "|[standard, oil, srd, form, financial, unit, standard, oil, bp, north, america, plan, form, venture, manage, money, market, borrow, investment, activity, company, bp, north, america, subsidiary, british, petroleum, plc, bp, own, pct, interest, standard, oil, venture, call, bpstandard, financial, trade, operate, standard, oil, oversight, joint, management, committee, reuter]                                                                                                                                                                                                                                                                                                                                                                                                                                                                                                                                                                                                                                                                                                                                                                                                                                                                                                                                                                                                                                                                                                                                                                                                                                                                                                                                                                                                                                                                                                                                                              |[JJ, NN, NN, NN, JJ, NN, JJ, NN, NN, RB, NNP, NN, NN, NN, NN, NN, NN, NN, NN, NNS, NNS, VBP, RB, NNP, JJ, JJ, NN, NN, NN, NNS, NN, NN, JJ, NN, NN, VBD, NN, JJ, NN, VBN, JJ, NN, NN, JJ, NN, NN, NN]                                                                                                                                                                                                                                                                                                                                                                                                                                                                                                                                                                                                                                                                                                                                                                                                                                                                                      |\n",
      "|[texas, commerce, bancshares, tcb, file, plan, texas, commerce, bancshares, inc, texas, commerce, bankhouston, file, application, comptroller, currency, effort, create, large, bank, network, harris, county, bank, network, link, bank, billion, dlrs, asset, billion, dlrs, deposit, reuter]                                                                                                                                                                                                                                                                                                                                                                                                                                                                                                                                                                                                                                                                                                                                                                                                                                                                                                                                                                                                                                                                                                                                                                                                                                                                                                                                                                                                                                                                                                                                                                                                                                                      |[NNP, NN, NNS, NN, NNS, NN, NNP, NN, NNS, NN, NNP, NN, NN, VBN, NN, NN, NN, NN, JJ, JJS, VBG, NN, NN, NN, NN, NN, NN, NNS, CD, NN, NNS, CD, NN, NNS, NN]                                                                                                                                                                                                                                                                                                                                                                                                                                                                                                                                                                                                                                                                                                                                                                                                                                                                                                                                  |\n",
      "|[talk, pointbankamerica, bac, equity, offer, bankamerica, corp, pressure, act, quickly, propose, equity, offer, delay, stock, recent, poor, performance, bank, analyst, analyst, recommend, bankamerica, delay, onebilliondlr, equity, offer, approve, security, exchange, commission, bankamerica, stock, fall, week, bank, issue, news, brazil, suspend, interest, payment, large, portion, foreign, debt, stock, trade, afternoon, fall, early, week, news, bank, analyst, threat, interstate, bancorp, i, takeover, bid, bankamerica, pressure, sell, security, market, nervous, bank, stock, term, bankamerica, file, offer, january, major, factor, lead, interstate, withdraw, takeover, bid, february, bankamerica, spokesman, sec, approval, take, long, expect, market, condition, reevaluated, circumstance, time, determine, arthur, miller, bankamericas, vice, president, financial, communication, ask, bankamerica, proceed, offer, immediately, receive, sec, approval, put, long, conceivably, lawrence, cohn, analyst, merrill, lynch, pierce, fenner, smith, cohn, long, bankamerica, wait, long, show, market, improve, financial, outlook, bankamerica, type, equity, offer, analyst, believe, convertible, prefer, stock, encompass, part, offer, depressed, stock, price, low, conversion, price, dilution, bankamerica, stock, holder, note, daniel, william, analyst, sutro, group, analyst, brazilian, debt, problem, continue, hang, bank, industry, quarter, initial, shock, reaction, ease, come, week, bankamerica, hold, billion, dlrs, brazilian, loan, stand, lose, mln, dlrs, interest, rate, reduce, debt, mln, dlrs, brazil, pay, interest, year, joseph, arsenio, analyst, birr, wilson, note, potential, loss, show, current, quarter, major, bank, stand, lose, bankamerica, brazil, fail, service, debt, analyst, expect, debt, restructure, similar, mexicos, debt, minimize, loss, creditor, bank, reuter]|[VBG, NN, NN, NN, NN, NN, NNP, NN, NN, RB, VBD, NN, NN, NN, NNS, JJ, JJ, NN, NN, NNS, NNS, VBD, NN, NN, NN, NN, NN, VBD, NNS, VBP, NN, NN, NN, VBD, NN, NN, NNS, NN, NN, VBN, NN, NNS, JJ, NN, JJ, NN, NN, VBD, NN, VBG, RBR, NN, NN, NN, NNS, VBP, JJ, NN, NNP, NN, NN, NN, NN, VB, NNS, NN, JJ, NN, NNS, NN, NN, VBN, NN, NNP, JJ, NNS, VBG, NN, VBG, NN, NN, NNP, NN, NN, NN, NN, VBG, RBR, VBN, NN, NNS, VBN, NNS, NN, VB, NNP, NN, NN, NN, NN, JJ, NNS, VBD, NN, VB, NN, RB, VBZ, NN, NN, VBD, JJ, RB, NN, NN, NN, NN, NN, NN, NN, NN, NN, RBR, NN, NNS, RBR, NN, NN, VBN, JJ, NN, NN, NNS, NNS, VBP, NNS, VBN, JJ, JJ, NN, NN, NN, NN, VBN, NN, NN, JJR, NN, NN, NN, NN, NN, NNS, VBD, NN, NNS, NN, NN, NN, NNS, JJ, NN, NN, VB, NN, NN, NN, NN, JJ, NN, NN, NN, VBG, NNS, NN, VBZ, CD, NN, JJ, NNS, VBZ, VB, NN, NN, NN, NN, VBN, NN, NN, NN, NN, NNS, NN, NN, NN, NN, NN, NN, NNP, VBD, JJ, NNS, VBP, JJ, NN, JJ, NNS, VBG, NN, NN, NN, NNS, NN, NN, NNS, VBP, NN, VBN, JJ, NN, NN, VBG, NNS, NN, NNS, NN]                                                                        |\n",
      "|[national, average, price, farmerowned, reserve, we, agriculture, department, report, farmerowned, reserve, national, fiveday, average, price, february, dlrsbusorghum, cwt, natl, loan, release, call, avge, ratex, level, price, price, wheat, iv, vi, corn, iv, rate, natl, loan, release, call, avge, ratex, level, price, price, oats, barley, na, iv, sorghum, y, iv, reserve, ii, iii, mature, level, iv, reflect, grain, enter, oct, feedgrain, july, wheat, level, wheatbarley, cornsorghum, level, vi, cover, wheat, enter, january, x, rate, ydlrs, cwt, lb, nanot, reuter]                                                                                                                                                                                                                                                                                                                                                                                                                                                                                                                                                                                                                                                                                                                                                                                                                                                                                                                                                                                                                                                                                                                                                                                                                                                                                                                                                               |[JJ, JJ, NNS, VBN, VB, PRP, NN, NN, VBD, VBN, VB, JJ, NN, JJ, NN, NNP, NN, NN, NN, NN, NN, NN, NN, NN, NN, NN, NN, NN, NN, NN, NN, NN, NNS, NN, NN, NN, NN, NN, NN, NN, NN, NN, NNS, NN, NN, NN, JJ, NN, NN, NNS, NN, NN, JJ, NN, NN, VBZ, NN, VBN, JJ, NN, NNP, NN, NN, NN, JJ, NN, NN, VBZ, NN, VBN, NNP, SYM, NNS, NN, NN, NN, NN, NN]                                                                                                                                                                                                                                                                                                                                                                                                                                                                                                                                                                                                                                                                                                                                                 |\n",
      "+-----------------------------------------------------------------------------------------------------------------------------------------------------------------------------------------------------------------------------------------------------------------------------------------------------------------------------------------------------------------------------------------------------------------------------------------------------------------------------------------------------------------------------------------------------------------------------------------------------------------------------------------------------------------------------------------------------------------------------------------------------------------------------------------------------------------------------------------------------------------------------------------------------------------------------------------------------------------------------------------------------------------------------------------------------------------------------------------------------------------------------------------------------------------------------------------------------------------------------------------------------------------------------------------------------------------------------------------------------------------------------------------------------------------------------------------------------------------------------------------------------------------------------------------------------------------------------------------------------------------------------------------------------------------------------------------------------------------------------------------------------------------------------------------------------------------------------------------------------------------------------------------------------------------------------------------------------+------------------------------------------------------------------------------------------------------------------------------------------------------------------------------------------------------------------------------------------------------------------------------------------------------------------------------------------------------------------------------------------------------------------------------------------------------------------------------------------------------------------------------------------------------------------------------------------------------------------------------------------------------------------------------------------------------------------------------------------------------------------------------------------------------------------------------------------------------------------------------------------------------------------------------------------------------------------------------------------------------------------------------------------------------------------------------------------+\n",
      "only showing top 5 rows\n",
      "\n"
     ]
    },
    {
     "name": "stderr",
     "output_type": "stream",
     "text": [
      "                                                                                \r"
     ]
    }
   ],
   "source": [
    "from pyspark.ml import Pipeline\n",
    "from sparknlp.annotator import Tokenizer, Normalizer, StopWordsCleaner, LemmatizerModel, PerceptronModel\n",
    "from sparknlp.base import DocumentAssembler, Finisher\n",
    "\n",
    "document_assembler = DocumentAssembler().setInputCol(\"body\").setOutputCol(\"document\")\n",
    "\n",
    "tokenizer = Tokenizer().setInputCols([\"document\"]).setOutputCol(\"raw_tokens\")\n",
    "\n",
    "stopwords_cleaner = StopWordsCleaner.pretrained(\"stopwords_en\", \"en\") \\\n",
    "    .setInputCols([\"raw_tokens\"]) \\\n",
    "    .setOutputCol(\"clean_tokens\")\n",
    "\n",
    "normalizer = Normalizer() \\\n",
    "    .setInputCols([\"clean_tokens\"]) \\\n",
    "    .setOutputCol(\"normalized_tokens\") \\\n",
    "    .setLowercase(True) \\\n",
    "    .setCleanupPatterns([\"[^A-Za-z]\"])\n",
    "\n",
    "pos_tagger = PerceptronModel.pretrained(\"pos_anc\", \"en\") \\\n",
    "    .setInputCols([\"document\", \"normalized_tokens\"]) \\\n",
    "    .setOutputCol(\"pos_tags\")\n",
    "    \n",
    "lemmatizer = LemmatizerModel.pretrained(\"lemma_antbnc\", \"en\") \\\n",
    "    .setInputCols([\"normalized_tokens\"]) \\\n",
    "    .setOutputCol(\"lemmas\")\n",
    "\n",
    "finisher = Finisher() \\\n",
    "    .setInputCols([\"lemmas\", \"pos_tags\"]) \\\n",
    "    .setOutputCols([\"fin_tokens\", \"final_pos\"])\n",
    "\n",
    "nlp_pipeline = Pipeline(stages=[\n",
    "    document_assembler,\n",
    "    tokenizer,\n",
    "    stopwords_cleaner,\n",
    "    normalizer,\n",
    "    pos_tagger,\n",
    "    lemmatizer,\n",
    "    finisher\n",
    "])\n",
    "\n",
    "print(\"⏳ Bắt đầu tiền xử lý với Spark NLP...\")\n",
    "df_processed = nlp_pipeline.fit(df).transform(df)\n",
    "df_processed.cache()\n",
    "print(\"✅ Xong bước NLP\")\n",
    "\n",
    "df_processed.select(\"fin_tokens\", \"final_pos\").show(5, truncate=False)"
   ]
  },
  {
   "cell_type": "code",
   "execution_count": 5,
   "id": "51894542",
   "metadata": {},
   "outputs": [
    {
     "name": "stdout",
     "output_type": "stream",
     "text": [
      "['id', 'title', 'body', 'topics', 'senses']\n"
     ]
    },
    {
     "name": "stderr",
     "output_type": "stream",
     "text": [
      "[Stage 9:>                                                          (0 + 1) / 1]\r"
     ]
    },
    {
     "name": "stdout",
     "output_type": "stream",
     "text": [
      "+------------------------------------------------------------------------------------------------------------------------------------------------------------------------------------------------------------------------------------------------------------------------------------------------------------------------------------------------------------------------------------------------------------------------------------------------------------------------------------------------------------------------------------------------------------------------------------------------------------------------------------------------------------------------------------------------------------------------------------------------------------------------------------------------------------------------------------------------------------------------------------------------------------------------------------------------------------------------------------------------------------------------------------------------------------------------------------------------------------------------------------------------------------------------------------------------------------------------------------------------------------------------------------------------------------------------------------------------------------------------------------------------------------------------------------------------------------------------------------------------------------------------------------------------------------------------------------------------------------------------------------------------------------------------------------------------------------------------------------------------------------------------------------------------------------------------------------------------------------------------------------------------------------------------------------------------------------------------------------------------------------------------------------------------------------------------------------------------------------------------------------------------------------------------------------------------------------------------------------------------------------------------------------------------------------------------------------------------------------------------------------------------------------------------------------------------------------------------------------------------------------------------------------------------------------------------------------------------------------------------------------------------------------------------------------------------------------------------------------------------------------------------------------------------------------------------------------------------------------------------------------------------------+\n",
      "|senses                                                                                                                                                                                                                                                                                                                                                                                                                                                                                                                                                                                                                                                                                                                                                                                                                                                                                                                                                                                                                                                                                                                                                                                                                                                                                                                                                                                                                                                                                                                                                                                                                                                                                                                                                                                                                                                                                                                                                                                                                                                                                                                                                                                                                                                                                                                                                                                                                                                                                                                                                                                                                                                                                                                                                                                                                                                                                                |\n",
      "+------------------------------------------------------------------------------------------------------------------------------------------------------------------------------------------------------------------------------------------------------------------------------------------------------------------------------------------------------------------------------------------------------------------------------------------------------------------------------------------------------------------------------------------------------------------------------------------------------------------------------------------------------------------------------------------------------------------------------------------------------------------------------------------------------------------------------------------------------------------------------------------------------------------------------------------------------------------------------------------------------------------------------------------------------------------------------------------------------------------------------------------------------------------------------------------------------------------------------------------------------------------------------------------------------------------------------------------------------------------------------------------------------------------------------------------------------------------------------------------------------------------------------------------------------------------------------------------------------------------------------------------------------------------------------------------------------------------------------------------------------------------------------------------------------------------------------------------------------------------------------------------------------------------------------------------------------------------------------------------------------------------------------------------------------------------------------------------------------------------------------------------------------------------------------------------------------------------------------------------------------------------------------------------------------------------------------------------------------------------------------------------------------------------------------------------------------------------------------------------------------------------------------------------------------------------------------------------------------------------------------------------------------------------------------------------------------------------------------------------------------------------------------------------------------------------------------------------------------------------------------------------------------+\n",
      "|[cocoa.n.01, review.n.02, shower.n.04, continue.v.10, workweek.n.01, cocoa.n.01, zone.n.03, facilitate.v.01, drought.n.02, early.a.05, january.n.01, better.v.02, view.n.02, occur.v.02, normal.a.01, humidity.n.01, degree.n.01, repair.v.01, smith.n.08, review.n.02, dry.a.06, time_period.n.01, mean.v.01, late.a.06, year.n.02, arrival.n.03, workweek.n.01, end.v.03, february.n.01, bag.n.05, kilogram.n.01, make.v.38, season.n.01, phase.n.01, year.n.02, cocoa.n.01, extradite.v.01, early_on.r.01, consignment.n.03, include.v.03, arrival.n.03, number.n.01, smith.n.08, doubt.n.02, crop.n.04, cocoa.n.01, reap.v.01, practically.r.02, crop.n.04, estimate.n.05, bag.n.05, sale.n.05, stand.v.06, hundred.s.01, thousand.s.01, bag.n.05, handwriting.n.01, farmer.n.03, exporter.n.01, central_processing_unit.n.01, doubt.v.02, cocoa.n.01, paroxysm.n.01, export.n.01, shipper.n.02, know.v.05, obtain.v.01, superior.a.01, security.n.04, view.n.07, low.a.05, timbre.n.01, workweek.n.01, farmer.n.03, sell.v.05, good.a.03, contribution.n.01, cocoa.n.01, restrain.v.03, consignment.n.03, smith.n.08, spotlight.n.02, bean.n.03, price.n.03, surface.v.01, arroba.n.02, kilogram.n.01, shipper.n.02, offer.n.02, dispatch.n.02, sale.n.05, book.v.04, borderland.n.01, dispatch.n.02, metric_ton.n.01, port.n.03, list.v.01, crop.n.04, sale.n.05, light.a.06, overt.a.01, port.n.03, york.n.01, july.n.01, metric_ton.n.01, fob.n.01, sale.n.05, butter.n.02, make.v.38, sell.v.05, butter.v.01, time.n.02, york.n.01, time.n.02, york.n.01, time.n.02, york.n.01, smith.n.08, finish.n.04, currentness.n.01, area.n.05, uruguay.n.01, overt.a.01, port.n.03, coat.v.03, sale.n.05, register.v.01, august.n.01, time.n.02, york.n.01, december.n.01, buyer.n.01, convertible.a.01, currentness.n.01, area.n.05, liquor.n.03, sale.n.05, sell.v.05, time.n.02, york.n.01, july.n.01, time.n.02, york.n.01, time.n.02, york.n.01, smith.n.08, sale.n.05, estimate.v.01, bag.n.05, crop.n.04, bag.n.05, crop.n.04, number.n.01, time_period.n.01, february.n.01, ask.v.04, publish.v.03, brazilian.a.01, cocoa.n.01, trade_wind.n.01, commission.n.04, circus.n.03, end.v.03, noon.n.01, february.n.01]                                                                                                                                                                                                                                                                                                                                                                                                                                                                                                                                                                                                                                                                            |\n",
      "|[standard.a.01, petroleum.n.01, shape.n.02, fiscal.a.01, unit_of_measurement.n.01, standard.a.01, petroleum.n.01, north.r.01, united_states.n.01, plan.n.03, shape.n.02, speculation.n.03, money.n.02, market.n.01, investment.n.03, natural_process.n.01, party.n.03, north.r.01, united_states.n.01, british.a.01, petroleum.n.01, percentage.n.01, interest.n.06, standard.a.01, petroleum.n.01, speculation.n.03, call.v.28, fiscal.a.01, trade_wind.n.01, operate_on.v.01, standard.a.01, petroleum.n.01, supervision.n.01, joint.a.01, management.n.02, committee.n.02]                                                                                                                                                                                                                                                                                                                                                                                                                                                                                                                                                                                                                                                                                                                                                                                                                                                                                                                                                                                                                                                                                                                                                                                                                                                                                                                                                                                                                                                                                                                                                                                                                                                                                                                                                                                                                                                                                                                                                                                                                                                                                                                                                                                                                                                                                                                         |\n",
      "|[texas.n.01, department_of_commerce.n.01, file.n.04, plan.n.03, texas.n.01, department_of_commerce.n.01, iraqi_national_congress.n.01, texas.n.01, department_of_commerce.n.01, file.v.02, application.n.06, accountant.n.01, currentness.n.01, feat.n.01, large.a.01, deposit.v.02, network.n.05, harris.n.06, county.n.02, savings_bank.n.02, network.n.05, radio_link.n.01, savings_bank.n.02, million.n.02, asset.n.01, million.n.02, deposition.n.01]                                                                                                                                                                                                                                                                                                                                                                                                                                                                                                                                                                                                                                                                                                                                                                                                                                                                                                                                                                                                                                                                                                                                                                                                                                                                                                                                                                                                                                                                                                                                                                                                                                                                                                                                                                                                                                                                                                                                                                                                                                                                                                                                                                                                                                                                                                                                                                                                                                            |\n",
      "|[talk.v.01, equity.n.02, offer.n.01, corporation.n.01, press.n.09, act.n.04, promptly.r.01, propose.v.05, equity.n.02, offer.n.01, delay.n.02, stock.n.01, poor.a.04, performance.n.03, depository_financial_institution.n.01, analyst.n.02, analyst.n.02, recommend.v.03, delay.n.02, equity.n.02, offer.n.01, approve.v.02, security.n.04, substitute.v.01, perpetration.n.01, stock.n.01, fall.v.28, workweek.n.01, depository_financial_institution.n.01, issue.n.11, newsworthiness.n.01, brazil.n.01, suspend.v.01, pastime.n.01, requital.n.02, large.a.01, share.n.01, foreign.a.02, debt.n.03, stock.n.01, trade.v.02, afternoon.n.01, fall.v.28, early_on.r.01, workweek.n.01, newsworthiness.n.01, depository_financial_institution.n.01, analyst.n.02, interstate.a.01, one.n.01, takeover.n.02, bid.n.03, press.n.09, sell.v.05, security.n.04, market.n.02, nervous.a.03, depository_financial_institution.n.01, stock.n.01, term.n.02, file.v.03, offer.n.01, january.n.01, major.a.07, agent.n.04, run.v.23, interstate.n.01, retire.v.08, takeover.n.02, bid.n.03, february.n.01, spokesman.n.01, securities_and_exchange_commission.n.01, blessing.n.01, take.v.24, long.r.01, ask.v.04, market.n.02, condition.n.08, reassess.v.01, circumstance.n.01, time.n.02, settle.v.03, arthur.n.01, moth_miller.n.01, vice.n.02, president_of_the_united_states.n.02, fiscal.a.01, communication.n.03, ask.v.07, proceed.v.02, offer.n.01, immediately.r.01, welcome.v.02, securities_and_exchange_commission.n.01, blessing.n.01, put.v.01, long.a.06, conceivably.r.01, lawrence.n.01, cohn.n.01, analyst.n.02, pierce.n.01, smith.n.08, cohn.n.01, long.r.01, wait.n.02, long.r.01, show.n.03, market.n.02, better.v.03, fiscal.a.01, lookout.n.04, type.n.03, equity.n.02, offer.v.07, analyst.n.02, believe.v.01, convertible.a.01, stock.n.01, share.n.01, offer.n.01, press_down.v.01, stock.n.01, price.n.07, low.a.05, conversion.n.08, price.n.07, dilution.n.02, stock.n.01, holder.n.03, note.v.04, daniel.n.03, analyst.n.02, group.n.02, analyst.n.02, brazilian.a.01, debt.n.03, trouble.n.01, stay.v.04, hang.n.03, depository_financial_institution.n.01, industry.n.02, quarter.n.04, electric_shock.n.03, reaction.n.07, relief.n.02, occur.v.02, workweek.n.01, restrain.v.03, million.n.02, brazilian.a.01, loanword.n.01, stand.v.06, lose.v.07, pastime.n.01, rate.n.02, shrink.v.03, debt.n.03, brazil.n.01, wage.n.01, pastime.n.01, year.n.02, joseph.n.03, analyst.n.02, whir.n.01, wilson.n.11, note.v.04, potential.a.01, loss.n.03, usher.v.01, current.a.01, quarter.n.04, major.a.07, depository_financial_institution.n.01, stand.v.06, brazil.n.01, servicing.n.01, debt.n.03, analyst.n.02, ask.v.04, debt.n.03, restructure.v.01, alike.a.01, mexico.n.01, debt.n.03, understate.v.01, loss.n.03, creditor.n.01, depository_financial_institution.n.01]|\n",
      "|[national.a.07, price.n.07, reserve.v.04, department_of_agriculture.n.01, department.n.03, report.v.06, reserve.v.04, national.a.07, price.n.07, february.n.01, hundredweight.n.03, loanword.n.01, release.n.08, call_option.n.02, level.n.07, price.n.07, price.n.07, wheat.n.02, intravenous_feeding.n.01, united_states_virgin_islands.n.01, corn_whiskey.n.01, intravenous_feeding.n.01, rate.n.04, loanword.n.01, release.n.08, call_option.n.02, level.n.07, price.n.07, price.n.07, oat.n.02, barley.n.01, sodium.n.01, intravenous_feeding.n.01, yttrium.n.01, intravenous_feeding.n.01, substitute.n.02, two.n.01, three.n.01, ripe.a.01, level.n.07, intravenous_feeding.n.01, chew_over.v.01, grain.n.07, record.v.01, july.n.01, wheat.n.02, level.n.07, level.n.07, united_states_virgin_islands.n.01, shroud.v.01, wheat.n.02, record.v.01, january.n.01, x.n.02, rate.n.04, hundredweight.n.03, pound.n.01]                                                                                                                                                                                                                                                                                                                                                                                                                                                                                                                                                                                                                                                                                                                                                                                                                                                                                                                                                                                                                                                                                                                                                                                                                                                                                                                                                                                                                                                                                                                                                                                                                                                                                                                                                                                                                                                                                                                                                                            |\n",
      "+------------------------------------------------------------------------------------------------------------------------------------------------------------------------------------------------------------------------------------------------------------------------------------------------------------------------------------------------------------------------------------------------------------------------------------------------------------------------------------------------------------------------------------------------------------------------------------------------------------------------------------------------------------------------------------------------------------------------------------------------------------------------------------------------------------------------------------------------------------------------------------------------------------------------------------------------------------------------------------------------------------------------------------------------------------------------------------------------------------------------------------------------------------------------------------------------------------------------------------------------------------------------------------------------------------------------------------------------------------------------------------------------------------------------------------------------------------------------------------------------------------------------------------------------------------------------------------------------------------------------------------------------------------------------------------------------------------------------------------------------------------------------------------------------------------------------------------------------------------------------------------------------------------------------------------------------------------------------------------------------------------------------------------------------------------------------------------------------------------------------------------------------------------------------------------------------------------------------------------------------------------------------------------------------------------------------------------------------------------------------------------------------------------------------------------------------------------------------------------------------------------------------------------------------------------------------------------------------------------------------------------------------------------------------------------------------------------------------------------------------------------------------------------------------------------------------------------------------------------------------------------------------------+\n",
      "only showing top 5 rows\n",
      "\n"
     ]
    },
    {
     "name": "stderr",
     "output_type": "stream",
     "text": [
      "                                                                                \r"
     ]
    }
   ],
   "source": [
    "from pyspark.sql.functions import udf, col\n",
    "from pyspark.sql.types import ArrayType, StringType\n",
    "\n",
    "@udf(ArrayType(StringType()))\n",
    "def wsd_udf(tokens, pos_tags):\n",
    "    from nltk.corpus import wordnet as wn\n",
    "    from nltk.wsd import lesk\n",
    "    def get_wordnet_pos(tag):\n",
    "        if tag.startswith('J'):\n",
    "            return wn.ADJ\n",
    "        elif tag.startswith('V'):\n",
    "            return wn.VERB\n",
    "        elif tag.startswith('N'):\n",
    "            return wn.NOUN\n",
    "        elif tag.startswith('R'):\n",
    "            return wn.ADV\n",
    "        else:\n",
    "            return None\n",
    "    result = []\n",
    "    for word, tag in zip(tokens, pos_tags):\n",
    "        pos = get_wordnet_pos(tag)\n",
    "        syn = lesk(tokens, word, pos)\n",
    "        if syn :\n",
    "            result.append(syn.name())\n",
    "    return result\n",
    "\n",
    "df_wsd = (\n",
    "    df_processed\n",
    "    .withColumn(\"senses\", wsd_udf(col(\"fin_tokens\"), col(\"final_pos\")))\n",
    "    .drop(\"fin_tokens\", \"final_pos\") \n",
    ")\n",
    "print(df_wsd.columns)\n",
    "df_wsd.select(\"senses\").show(5, truncate=False)"
   ]
  },
  {
   "cell_type": "code",
   "execution_count": 6,
   "id": "d81e6c1f",
   "metadata": {},
   "outputs": [
    {
     "name": "stdout",
     "output_type": "stream",
     "text": [
      "['id', 'topics', 'sem_tokens']\n"
     ]
    },
    {
     "name": "stderr",
     "output_type": "stream",
     "text": [
      "[Stage 10:>                                                         (0 + 1) / 1]\r"
     ]
    },
    {
     "name": "stdout",
     "output_type": "stream",
     "text": [
      "+------------------------------------------------------------------------------------------------------------------------------------------------------------------------------------------------------------------------------------------------------------------------------------------------------------------------------------------------------------------------------------------------------------------------------------------------------------------------------------------------------------------------------------------------------------------------------------------------------------------------------------------------------------------------------------------------------------------------------------------------------------------------------------------------------------------------------------------------------------------------------------------------------------------------------------------------------------------------------------------------------------------------------------------------------------------------------------------------------------------------------------------------------------------------------------------------------------------------------------------------------------------------------------------------------------------------------------------------------------------------------------------------------------------------------------------------------------------------------------------------------------------------------------------------------------------------------------------------------------------------------------------------------------------------------------------------------------------------------------------------------------------------------------------------------------------------------------------------------------------------------------------------------------------------------------------------------------------------------------------------------------------------------------------------------------------------------------------------------------------------------------------------------------------------------------------------------------------------------------------------------------------------------------------------------------------------------------------------------------------------------------------------------------------------------------------------------------------------------------------------------------------------------------------------------------------------------------------------------------------------------------------------------------------------------------------------------------------------------------------------------------------------------------------------------------------------------------------------+\n",
      "|sem_tokens                                                                                                                                                                                                                                                                                                                                                                                                                                                                                                                                                                                                                                                                                                                                                                                                                                                                                                                                                                                                                                                                                                                                                                                                                                                                                                                                                                                                                                                                                                                                                                                                                                                                                                                                                                                                                                                                                                                                                                                                                                                                                                                                                                                                                                                                                                                                                                                                                                                                                                                                                                                                                                                                                                                                                                                                                                      |\n",
      "+------------------------------------------------------------------------------------------------------------------------------------------------------------------------------------------------------------------------------------------------------------------------------------------------------------------------------------------------------------------------------------------------------------------------------------------------------------------------------------------------------------------------------------------------------------------------------------------------------------------------------------------------------------------------------------------------------------------------------------------------------------------------------------------------------------------------------------------------------------------------------------------------------------------------------------------------------------------------------------------------------------------------------------------------------------------------------------------------------------------------------------------------------------------------------------------------------------------------------------------------------------------------------------------------------------------------------------------------------------------------------------------------------------------------------------------------------------------------------------------------------------------------------------------------------------------------------------------------------------------------------------------------------------------------------------------------------------------------------------------------------------------------------------------------------------------------------------------------------------------------------------------------------------------------------------------------------------------------------------------------------------------------------------------------------------------------------------------------------------------------------------------------------------------------------------------------------------------------------------------------------------------------------------------------------------------------------------------------------------------------------------------------------------------------------------------------------------------------------------------------------------------------------------------------------------------------------------------------------------------------------------------------------------------------------------------------------------------------------------------------------------------------------------------------------------------------------------------------+\n",
      "|[timbre, midday, improve, better, level, name, share, review_article, 1000, drinking_chocolate, ease, vista, February, require, restore, come_up, Farmer, humidness, estimation, review, rise_up, comer, tone, shipper, cost, kilo, twelve_noon, toll, intend, Dec, m, superior, port, degree, cascade, central_processing_unit, Brazilian, gauge, mainframe, ameliorate, York, C.P.U., k, expect, figure, CPU, marchland, include, extradite, pot_liquor, deliver, crop, mend, know, price, restrain, liquor, confine, reap, January, central_processor, doubtfulness, security, currency, late, continue, dispatch, bag, end, 100, one_thousand, open, Feb, early_on, August, aspect, arroba, shipment, contribution, time_period, zone, certificate, hand, workweek, sales_agreement, House_of_York, approximate, furbish_up, December, drouth, make, offering, fit, exchangeable, normal, carnival, butter, trade_wind, deport, emptor, thousand, export, list, arriver, finish, time, MT, fob, publish, t, spot, low-pitched, purchaser, experience, dry, harvest, drought, hold, stand, judge, bagful, humidity, Fannie_Merritt_Farmer, season, embrasure, Aug, kilogram, sale, c, Adam_Smith, fix, glean, handwriting, rise, metric_ton, view, book, circus, exportation, later, coat, script, despatch, stage, overt, chocolate, alleviate, up-to-dateness, doctor, tonne, low, cake, week, hundred, doubt, buyer, guess, surface, bushel, destination, exporter, question, hot_chocolate, area, occur, noontide, amend, part, bean, currentness, panorama, meliorate, arrival, borderland, obtain, estimate, processor, dubiousness, write, Smith, high_noon, critique, period, commission, practically, Uruguay, pot_likker, spotlight, touch_on, kg, period_of_time, year, phase, consignment, goal, ask, come, terminate, march, live, watch_pocket, border_district, good, critical_review, facilitate, number, timber, one_hundred, porthole, scene, mean, Fannie_Farmer, paroxysm, light, bean_plant, prospect, grade, cocoa, convulsion, offer, repair, noon, July, sell, trade, noonday, convertible, shower, early, vendee, quality, register, Jan]                                                                                                                                                                                                                                                                                                                                                                                                                                                                                                                                                                                                                                                                           |\n",
      "|[company, crude_oil, unit, market, architectural_plan, rock_oil, form, plan, money, market_place, committee, financial, the_States, citizens_committee, America, crude, U.S.A., interest_group, shape, US, oil, marketplace, operate_on, oversight, action, north, supervision, per_centum, trade_wind, petroleum, superintendence, unit_of_measurement, British, USA, percent, northward, investment, operate, call, percentage, standard, supervising, management, fossil_oil, northwards, natural_process, United_States, United_States_of_America, party, venture, trade, pct, fiscal, natural_action, interest, activity, northerly, U.S., speculation, joint]                                                                                                                                                                                                                                                                                                                                                                                                                                                                                                                                                                                                                                                                                                                                                                                                                                                                                                                                                                                                                                                                                                                                                                                                                                                                                                                                                                                                                                                                                                                                                                                                                                                                                                                                                                                                                                                                                                                                                                                                                                                                                                                                                                             |\n",
      "|[gazillion, currentness, effort, billion, deposit, architectural_plan, plan, large, INC, coin_bank, TX, exploit, Benjamin_Harris, trillion, comptroller, network, county, accountant, application, radio_link, zillion, Texas, link, DoC, up-to-dateness, big, million, money_box, Lone-Star_State, plus, asset, Commerce, Department_of_Commerce, Iraqi_National_Congress, feat, savings_bank, electronic_network, bank, deposition, Commerce_Department, diligence, currency, controller, jillion, file, Harris]                                                                                                                                                                                                                                                                                                                                                                                                                                                                                                                                                                                                                                                                                                                                                                                                                                                                                                                                                                                                                                                                                                                                                                                                                                                                                                                                                                                                                                                                                                                                                                                                                                                                                                                                                                                                                                                                                                                                                                                                                                                                                                                                                                                                                                                                                                                              |\n",
      "|[improve, better, loss, share, understate, market, experimental_condition, portion, ease, February, require, industry, chemical_group, holdup, conceivably, instantly, earnings, press_down, put, Lawrence, replace, determine, Mary_Leontyne_Price, current, President, depository_financial_institution, fall, Brazilian, ameliorate, Ferdinand_Julius_Cohn, Leontyne_Price, Daniel, suspend, trade_in, expect, big, Franklin_Pierce, Pierce, single, President_Pierce, servicing, downplay, restrain, salary, approving, Joseph, Wilson, confine, analyst, bearer, January, shock, loan, directly, security, vice, show, continue, radical, fiscal, poor, file, interest, now, take, condition, turn, right_away, at_once, Feb, early_on, stock, Saint_Lawrence, electric_shock, wage, pressing, wait, promptly, quickly, committal, straightaway, waiting, propose, execution, believe, quarter, loanword, factor, certificate, workweek, immediately, reaction, financial, one, Cohn, SEC, electrical_shock, whirring, payment, ace, lose, Arthur, square_off, offering, corp, withdraw, exchangeable, Price, note, minimise, dilution, issue, position, million, shrink, bit, Chester_Alan_Arthur, possible, pop_the_question, press, alike, approval, news, straight_off, time, percentage, set, Book_of_the_Prophet_Daniel, problem, stay, talk, low-pitched, agent, whir, corporation, routine, blessing, whirr, exchange, United_Mexican_States, hold, stand, minimize, long, speak, billion, interchange, performance, bid, stay_on, Adam_Smith, birr, St._Lawrence, act, large, newsworthiness, debt, takeover, reassess, settle, conversion, potential, President_of_the_United_States, communication, lookout, afternoon, square_up, quick, welcome, miller, broker, delay, recommend, tender, term, moth_miller, low, neural, holder, week, Book_of_Daniel, like, banking_company, manufacture, strange, service, publication, perpetration, proceed, charge_per_unit, bank, Brazil, Laurentius, Securities_and_Exchange_Commission, occur, part, gazillion, interstate, banking_concern, pose, carrying_into_action, place, meliorate, pressure, group, remain, Mount_Wilson, foreign, hang, pay, approve, type, reduce, substitute, Brasil, spokesman, pastime, interstate_highway, Chief_Executive, Smith, relief, trillion, depress, commission, circumstance, President_Arthur, lay, outlook, jillion, zillion, remuneration, ask, I, reevaluate, like_a_shot, turn_a_loss, come, year, similar, rate, reconstitute, Federative_Republic_of_Brazil, forthwith, 1, requital, number, major, trouble, usher, creditor, take_down, unity, equity, offer, nervous, retire, run, sell, trade, carrying_out, convertible, restructure, Mexico, early, lead, Chester_A._Arthur, pursuit, go_forward, declare_oneself, receive, Jan]|\n",
      "|[hundredweight, level, February, USDA, ternary, department, tierce, American_Virgin_Islands, enter, Mary_Leontyne_Price, meditate, VI, Leontyne_Price, three, triad, long_hundredweight, IV, ruminate, call, January, terzetto, loan, mature, barleycorn, trio, tercet, atomic_number_39, Feb, call_option, deuce, mull_over, II, national, X, loanword, barley, trine, corn_whiskey, report, oat, Na, 3, think_over, Price, troika, deuce-ace, enshroud, Department_of_Agriculture, speculate, yttrium, ex, reflect, ponder, Agriculture_Department, Agriculture, hold, threesome, x, Y, record, pound, ternion, grain, sodium, put_down, book, button, intravenous_feeding, corn, cwt, ripe, chew_over, caryopsis, trey, 2, reserve, trinity, shroud, lb, corn_whisky, leash, hide, substitute, atomic_number_11, excogitate, triplet, contemplate, rate, III, mull, stratum, release, muse, wheat, United_States_Virgin_Islands, two, July, cover, wheat_berry, layer, second-stringer, Jan]                                                                                                                                                                                                                                                                                                                                                                                                                                                                                                                                                                                                                                                                                                                                                                                                                                                                                                                                                                                                                                                                                                                                                                                                                                                                                                                                                                                                                                                                                                                                                                                                                                                                                                                                                                                                                                                 |\n",
      "+------------------------------------------------------------------------------------------------------------------------------------------------------------------------------------------------------------------------------------------------------------------------------------------------------------------------------------------------------------------------------------------------------------------------------------------------------------------------------------------------------------------------------------------------------------------------------------------------------------------------------------------------------------------------------------------------------------------------------------------------------------------------------------------------------------------------------------------------------------------------------------------------------------------------------------------------------------------------------------------------------------------------------------------------------------------------------------------------------------------------------------------------------------------------------------------------------------------------------------------------------------------------------------------------------------------------------------------------------------------------------------------------------------------------------------------------------------------------------------------------------------------------------------------------------------------------------------------------------------------------------------------------------------------------------------------------------------------------------------------------------------------------------------------------------------------------------------------------------------------------------------------------------------------------------------------------------------------------------------------------------------------------------------------------------------------------------------------------------------------------------------------------------------------------------------------------------------------------------------------------------------------------------------------------------------------------------------------------------------------------------------------------------------------------------------------------------------------------------------------------------------------------------------------------------------------------------------------------------------------------------------------------------------------------------------------------------------------------------------------------------------------------------------------------------------------------------------------------+\n",
      "only showing top 5 rows\n",
      "\n"
     ]
    },
    {
     "name": "stderr",
     "output_type": "stream",
     "text": [
      "                                                                                \r"
     ]
    }
   ],
   "source": [
    "@udf(ArrayType(StringType()))\n",
    "def expand_syn_hyper(sids):\n",
    "    from nltk.corpus import wordnet as wn\n",
    "    if not sids:\n",
    "        return []\n",
    "\n",
    "    out = set()\n",
    "    for sid in sids:\n",
    "        if not sid:\n",
    "            continue\n",
    "        if \".\" in sid:\n",
    "            try:\n",
    "                syn = wn.synset(sid)\n",
    "                out.update(l.name() for l in syn.lemmas())\n",
    "                continue        \n",
    "            except Exception:\n",
    "                pass             \n",
    "        out.add(sid)\n",
    "\n",
    "    return list(out)\n",
    "\n",
    "df_expanded = (\n",
    "    df_wsd.select(\"id\", \"topics\", \"senses\")\n",
    "    .withColumn(\"sem_tokens\", expand_syn_hyper(col(\"senses\")))\n",
    "    .drop(\"senses\") \n",
    ")\n",
    "print(df_expanded.columns)\n",
    "df_expanded.select(\"sem_tokens\").show(5, truncate=False)\n",
    "\n"
   ]
  },
  {
   "cell_type": "code",
   "execution_count": 7,
   "id": "b29cdcd7",
   "metadata": {},
   "outputs": [
    {
     "name": "stderr",
     "output_type": "stream",
     "text": [
      "                                                                                \r"
     ]
    },
    {
     "name": "stdout",
     "output_type": "stream",
     "text": [
      "['id', 'topics', 'final_tokens']\n",
      "+----------------------------------------------------------------------------------------------------------------------------------------------------------------------------------------------------------------------------------------------------------------------------------------------------------------------------------------------------------------------------------------------------------------------------------------------------------------------------------------------------------------------------------------------------------------------------------------------------------------------------------------------------------------------------------------------------------------------------------------------------------------------------------------------------------------------------------------------------------------------------------------------------------------------------------------------------------------------------------------------------------------------------------------------------------------------------------------------------------------------------------------------------------------------------------------------------------------------------------------------------------------------------------------------------------------------------------------------------------------------------------------------------------------------------------------------------------------------------------------------------------------------------------------------------------------------------------------------------------------------------------------------------------------------------------------------------------------------------------------------------------------------------------------------------------------------------------------------------------------------------------------------------------------------------------------------------------------------------------------------------------------------------------------------------------------------------------------------------------------------------------------------------------------------------------------------------------------------------------------------------------------------------------------------------------------------------------------------------------------------------------------------------------------------------------------------------------------------------------------------------------------------------------------------------------------------------------------------------------------------------------------------------------------------------------------------------------------------------------------------------------------------------------------------------------------------------------------------------------------------------------------------------------------------------------------------------------------------------------------------------------------------------------------------------------------------------------------------------------------------------------------------------------------------------------------------------------------------------------------------------------------------------------------------------------------------------------------------------------------------------------------------------------------------------------------------------------------------------------------------------------------------------------------------------------------------------------------------------------------------------------------------------------------------------------------------------------------------------------------------------------------------------------------------------------------------------------------------------------------------------------------------------------------------------------------------------------------------------------------------------------------------------------------------------------------+\n",
      "|final_tokens                                                                                                                                                                                                                                                                                                                                                                                                                                                                                                                                                                                                                                                                                                                                                                                                                                                                                                                                                                                                                                                                                                                                                                                                                                                                                                                                                                                                                                                                                                                                                                                                                                                                                                                                                                                                                                                                                                                                                                                                                                                                                                                                                                                                                                                                                                                                                                                                                                                                                                                                                                                                                                                                                                                                                                                                                                                                                                                                                                                                                                                                                                                                                                                                                                                                                                                                                                                                                                                                                                                                                                                                                                                                                                                                                                                                                                                                                                                                                                                                                                                    |\n",
      "+----------------------------------------------------------------------------------------------------------------------------------------------------------------------------------------------------------------------------------------------------------------------------------------------------------------------------------------------------------------------------------------------------------------------------------------------------------------------------------------------------------------------------------------------------------------------------------------------------------------------------------------------------------------------------------------------------------------------------------------------------------------------------------------------------------------------------------------------------------------------------------------------------------------------------------------------------------------------------------------------------------------------------------------------------------------------------------------------------------------------------------------------------------------------------------------------------------------------------------------------------------------------------------------------------------------------------------------------------------------------------------------------------------------------------------------------------------------------------------------------------------------------------------------------------------------------------------------------------------------------------------------------------------------------------------------------------------------------------------------------------------------------------------------------------------------------------------------------------------------------------------------------------------------------------------------------------------------------------------------------------------------------------------------------------------------------------------------------------------------------------------------------------------------------------------------------------------------------------------------------------------------------------------------------------------------------------------------------------------------------------------------------------------------------------------------------------------------------------------------------------------------------------------------------------------------------------------------------------------------------------------------------------------------------------------------------------------------------------------------------------------------------------------------------------------------------------------------------------------------------------------------------------------------------------------------------------------------------------------------------------------------------------------------------------------------------------------------------------------------------------------------------------------------------------------------------------------------------------------------------------------------------------------------------------------------------------------------------------------------------------------------------------------------------------------------------------------------------------------------------------------------------------------------------------------------------------------------------------------------------------------------------------------------------------------------------------------------------------------------------------------------------------------------------------------------------------------------------------------------------------------------------------------------------------------------------------------------------------------------------------------------------------------------------------------------+\n",
      "|[timbre, sound_property, midday, improve, better, change_state, level, indicator, name, important_person, share, communicate, review_article, 1000, drinking_chocolate, ease, travel, vista, February, require, restore, change, come_up, Farmer, humidness, estimation, review, remember, rise_up, comer, rival, tone, pitch, shipper, company, cost, outgo, kilo, twelve_noon, toll, levy, intend, Dec, M, letter, superior, religious, port, drink, degree, exponent, cascade, waterfall, central_processing_unit, electronic_equipment, Brazilian, gauge, determine, mainframe, digital_computer, ameliorate, York, C.P.U., K, ketamine, expect, figure, impression, CPU, marchland, include, see, extradite, expel, pot_liquor, deliver, throw, crop, bear, mend, sewing, know, price, restrain, restrict, liquor, liquid, confine, reap, derive, January, central_processor, doubtfulness, security, precaution, currency, prevalence, late, continue, act, dispatch, transport, bag, pack, end, lineman, 100, one_thousand, open, tournament, Feb, early_on, August, aspect, grammatical_relation, arroba, liquid_unit, shipment, contribution, publication, time_period, fundamental_quantity, zone, geographical_area, certificate, document, hand, forepaw, workweek, work_time, sales_agreement, House_of_York, approximate, furbish_up, December, drouth, make, constitute, offering, fit, exchangeable, normal, carnival, butter, food, trade_wind, prevailing_wind, deport, emptor, thousand, large_integer, export, trade, list, database, arriver, finish, coat, time, schedule, MT, fob, vest_pocket, publish, publicize, t, spot, marker, low-pitched, purchaser, experience, content, dry, harvest, consequence, drought, dryness, hold, stand, be, judge, decide, bagful, humidity, wetness, Fannie_Merritt_Farmer, season, embrasure, Aug, kilogram, metric_weight_unit, sale, selling, C, programming_language, Adam_Smith, fix, glean, handwriting, writing, rise, motion, metric_ton, view, appearance, book, circus, show, exportation, later, dress, script, dramatic_composition, despatch, stage, initiate, overt, chocolate, alleviate, up-to-dateness, doctor, scholar, tonne, low, cake, baked_goods, week, hundred, doubt, cognitive_state, buyer, customer, guess, opinion, surface, bushel, United_States_dry_unit, destination, exporter, businessperson, question, subject, hot_chocolate, area, region, occur, become, noontide, amend, part, object, bean, legume, currentness, presentness, panorama, meliorate, arrival, action, borderland, district, obtain, get, estimate, calculate, processor, business, dubiousness, write, create_verbally, Smith, high_noon, critique, period, commission, equip, practically, Uruguay, pot_likker, spotlight, lamp, touch_on, kg, period_of_time, year, phase, point, consignment, delivery, goal, ask, request, come, result, terminate, march, walk, live, watch_pocket, border_district, good, quality, critical_review, facilitate, help, number, limit, timber, post, one_hundred, porthole, scene, photograph, mean, Fannie_Farmer, paroxysm, attack, light, condition, bean_plant, prospect, search, grade, ablaut, cocoa, foodstuff, convulsion, offer, give, repair, noon, hour, July, sell, commerce, noonday, convertible, sofa, shower, descent, early, vendee, attribute, register, mail, Jan]                                                                                                                                                                                                                                                                                                                                                                                                                                                                                                                                                                                                                                                                    |\n",
      "|[company, unit, crude_oil, organization, market, trade, architectural_plan, rock_oil, form, mold, plan, idea, money, medium_of_exchange, market_place, committee, administrative_unit, financial, the_States, citizens_committee, America, crude, U.S.A., interest_group, shape, concretism, US, oil, cover, marketplace, mercantile_establishment, operate_on, treat, oversight, mistake, action, drive, north, cardinal_compass_point, supervision, management, per_centum, trade_wind, prevailing_wind, petroleum, fossil_fuel, superintendence, unit_of_measurement, definite_quantity, British, USA, percent, northward, investment, skin, operate, happen, call, ask, percentage, proportion, standard, post, supervising, social_control, fossil_oil, northwards, natural_process, process, United_States, United_States_of_America, party, celebrate, venture, undertaking, commerce, pct, fiscal, natural_action, interest, power, activity, capability, northerly, U.S., speculation, hypothesis, joint, supply]                                                                                                                                                                                                                                                                                                                                                                                                                                                                                                                                                                                                                                                                                                                                                                                                                                                                                                                                                                                                                                                                                                                                                                                                                                                                                                                                                                                                                                                                                                                                                                                                                                                                                                                                                                                                                                                                                                                                                                                                                                                                                                                                                                                                                                                                                                                                                                                                                                                                                                                                                                                                                                                                                                                                                                                                                                                                                                                                                                                                                                      |\n",
      "|[gazillion, currentness, presentness, effort, labor, billion, deposit, guarantee, architectural_plan, plan, idea, large, INC, coin_bank, TX, exploit, use, Benjamin_Harris, trillion, comptroller, network, system, county, region, accountant, businessperson, application, action, radio_link, communication_system, zillion, Texas, link, fastener, DoC, up-to-dateness, big, million, large_integer, money_box, Lone-Star_State, plus, asset, quality, Commerce, Department_of_Commerce, Iraqi_National_Congress, feat, accomplishment, savings_bank, container, electronic_network, bank, slope, deposition, ouster, Commerce_Department, diligence, conscientiousness, currency, prevalence, controller, jillion, file, hand_tool, Harris]                                                                                                                                                                                                                                                                                                                                                                                                                                                                                                                                                                                                                                                                                                                                                                                                                                                                                                                                                                                                                                                                                                                                                                                                                                                                                                                                                                                                                                                                                                                                                                                                                                                                                                                                                                                                                                                                                                                                                                                                                                                                                                                                                                                                                                                                                                                                                                                                                                                                                                                                                                                                                                                                                                                                                                                                                                                                                                                                                                                                                                                                                                                                                                                                                                                                                                                |\n",
      "|[improve, better, change_state, loss, disadvantage, share, communicate, understate, inform, market, trade, experimental_condition, portion, ease, travel, February, require, industry, commercial_enterprise, chemical_group, holdup, conceivably, instantly, earnings, press_down, move, put, arrange, Lawrence, replace, regenerate, determine, cause, Mary_Leontyne_Price, current, flow, President, depository_financial_institution, financial_institution, fall, change_of_location, Brazilian, ameliorate, Ferdinand_Julius_Cohn, Leontyne_Price, Daniel, suspend, expel, trade_in, expect, big, Franklin_Pierce, Pierce, single, base_hit, President_Pierce, servicing, coupling, downplay, restrain, restrict, salary, approving, Joseph, Wilson, confine, analyst, expert, bearer, January, shock, treat, loan, debt, directly, security, precaution, vice, transgression, show, entertainment, continue, act, radical, person, fiscal, poor, file, hand_tool, interest, power, now, present, take, experience, condition, state, turn, aim, right_away, at_once, Feb, early_on, stock, supply, Saint_Lawrence, electric_shock, reflex, wage, regular_payment, pressing, wait, promptly, quickly, committal, straightaway, section, waiting, propose, request, execution, court_order, believe, quarter, orientation, loanword, word, factor, lend, certificate, document, workweek, work_time, immediately, reaction, idea, financial, one, Cohn, SEC, electrical_shock, whirring, payment, commerce, ace, lose, Arthur, square_off, offering, contribution, corp, withdraw, exchangeable, Price, note, tone, minimise, dilution, solution, issue, distribute, position, relation, million, large_integer, shrink, decrease, bit, part, Chester_Alan_Arthur, possible, pop_the_question, press, flatten, alike, approval, liking, news, information, straight_off, time, schedule, percentage, proportion, set, change, Book_of_the_Prophet_Daniel, problem, question, stay, decree, talk, discussion, low-pitched, agent, causal_agent, whir, sound, corporation, firm, routine, software, blessing, good_fortune, whirr, exchange, conversation, United_Mexican_States, hold, stand, be, minimize, long, speak, billion, interchange, interaction, performance, presentation, bid, attempt, stay_on, Adam_Smith, birr, St._Lawrence, large, newsworthiness, obligation, takeover, buyout, reassess, measure, settle, conversion, potential, possibility, President_of_the_United_States, communication, connection, lookout, look, afternoon, day, square_up, quick, area, welcome, acceptance, miller, shaper, broker, negociate, delay, decelerate, recommend, tender, term, moth_miller, moth, low, neural, holder, holding_device, week, time_period, Book_of_Daniel, like, desire, banking_company, manufacture, make, strange, service, aid, publication, perpetration, crime, proceed, charge_per_unit, bank, slope, Brazil, Laurentius, Securities_and_Exchange_Commission, occur, become, object, gazillion, interstate, highway, banking_concern, pose, carrying_into_action, place, passage, meliorate, pressure, force, group, meet, remain, Mount_Wilson, foreign, hang, fasten, pay, approve, evaluate, type, identify, reduce, substitute, athlete, Brasil, spokesman, spokesperson, pastime, diversion, interstate_highway, Chief_Executive, Smith, relief, damages, trillion, depress, discourage, commission, equip, circumstance, President_Arthur, lay, levy, outlook, jillion, zillion, remuneration, ask, I, reevaluate, like_a_shot, turn_a_loss, come, result, year, similar, rate, charge, reconstitute, Federative_Republic_of_Brazil, forthwith, 1, requital, return, number, limit, major, student, trouble, pregnancy, usher, escort, creditor, take_down, unity, equity, offer, give, nervous, retire, discontinue, run, accompany, sell, carrying_out, convertible, sofa, restructure, structure, Mexico, early, lead, evidence, Chester_A._Arthur, pursuit, search, go_forward, declare_oneself, receive, see, Jan]|\n",
      "|[hundredweight, avoirdupois_unit, level, indicator, February, USDA, ternary, department, administrative_district, tierce, American_Virgin_Islands, enter, Mary_Leontyne_Price, meditate, VI, Leontyne_Price, three, digit, triad, long_hundredweight, IV, ruminate, call, ask, January, terzetto, loan, debt, mature, explicate, barleycorn, trio, gathering, tercet, atomic_number_39, Feb, call_option, option, deuce, playing_card, mull_over, II, national, X, loanword, word, barley, grain, trine, corn_whiskey, whiskey, report, news, oat, cereal, Na, 3, think_over, Price, troika, deuce-ace, enshroud, Department_of_Agriculture, speculate, expect, yttrium, metallic_element, ex, reflect, emit, ponder, Agriculture_Department, Agriculture, hold, threesome, letter, Y, record, pound, break_up, ternion, texture, sodium, put_down, book, schedule, button, artifact, intravenous_feeding, feeding, corn, preserve, cwt, ripe, chew_over, think, caryopsis, trey, 2, reserve, withhold, trinity, shroud, wrap, lb, corn_whisky, leash, restraint, hide, substitute, athlete, atomic_number_11, excogitate, triplet, contemplate, consider, rate, charge, III, Mull, island, stratum, layer, release, merchandise, muse, wheat, United_States_Virgin_Islands, two, July, cover, concealment, wheat_berry, shape, second-stringer, Jan]                                                                                                                                                                                                                                                                                                                                                                                                                                                                                                                                                                                                                                                                                                                                                                                                                                                                                                                                                                                                                                                                                                                                                                                                                                                                                                                                                                                                                                                                                                                                                                                                                                                                                                                                                                                                                                                                                                                                                                                                                                                                                                                                                                                                                                                                                                                                                                                                                                                                                                                                                                                                                                                                                                           |\n",
      "+----------------------------------------------------------------------------------------------------------------------------------------------------------------------------------------------------------------------------------------------------------------------------------------------------------------------------------------------------------------------------------------------------------------------------------------------------------------------------------------------------------------------------------------------------------------------------------------------------------------------------------------------------------------------------------------------------------------------------------------------------------------------------------------------------------------------------------------------------------------------------------------------------------------------------------------------------------------------------------------------------------------------------------------------------------------------------------------------------------------------------------------------------------------------------------------------------------------------------------------------------------------------------------------------------------------------------------------------------------------------------------------------------------------------------------------------------------------------------------------------------------------------------------------------------------------------------------------------------------------------------------------------------------------------------------------------------------------------------------------------------------------------------------------------------------------------------------------------------------------------------------------------------------------------------------------------------------------------------------------------------------------------------------------------------------------------------------------------------------------------------------------------------------------------------------------------------------------------------------------------------------------------------------------------------------------------------------------------------------------------------------------------------------------------------------------------------------------------------------------------------------------------------------------------------------------------------------------------------------------------------------------------------------------------------------------------------------------------------------------------------------------------------------------------------------------------------------------------------------------------------------------------------------------------------------------------------------------------------------------------------------------------------------------------------------------------------------------------------------------------------------------------------------------------------------------------------------------------------------------------------------------------------------------------------------------------------------------------------------------------------------------------------------------------------------------------------------------------------------------------------------------------------------------------------------------------------------------------------------------------------------------------------------------------------------------------------------------------------------------------------------------------------------------------------------------------------------------------------------------------------------------------------------------------------------------------------------------------------------------------------------------------------------------------------------------+\n",
      "only showing top 5 rows\n",
      "\n"
     ]
    }
   ],
   "source": [
    "\n",
    "def synset2concepts(sid, max_depth=1):\n",
    "    from nltk.corpus import wordnet as wn\n",
    "    try:\n",
    "        syn = wn.synset(sid)\n",
    "    except:\n",
    "        return [\"unknown\"]\n",
    "    \n",
    "    paths = syn.hypernym_paths()\n",
    "    if not paths:\n",
    "        return [syn.lexname()]\n",
    "    \n",
    "    path = paths[0]\n",
    "    concepts = []\n",
    "\n",
    "    for i in range(0, min(len(path), max_depth + 1)):\n",
    "        lemma = path[-(i + 1)].lemma_names()[0]\n",
    "        if lemma not in concepts:\n",
    "            concepts.append(lemma)\n",
    "    return concepts\n",
    "\n",
    "from pyspark.sql.functions import col, explode\n",
    "unique_synsets = (\n",
    "    df_wsd\n",
    "    .select(explode(col(\"senses\")).alias(\"sid\"))\n",
    "    .where(col(\"sid\").isNotNull())\n",
    "    .distinct()\n",
    "    .toPandas()[\"sid\"]\n",
    "    .tolist()\n",
    ")\n",
    "\n",
    "concept_map = {}\n",
    "for sid in unique_synsets:\n",
    "    key = sid.split('.')[0] \n",
    "    concepts = synset2concepts(sid)\n",
    "    concept_map[key] = concepts\n",
    "    \n",
    "b_concept_map = spark.sparkContext.broadcast(concept_map)\n",
    "\n",
    "@udf(ArrayType(StringType()))\n",
    "def map_to_concepts(tokens):\n",
    "    out = []\n",
    "    for t in tokens:\n",
    "        concepts = b_concept_map.value.get(t, [t]) \n",
    "        out.extend(concepts)\n",
    "    return list(dict.fromkeys(out)) \n",
    "\n",
    "df_semantic = df_expanded.withColumn(\n",
    "    \"final_tokens\", map_to_concepts(col(\"sem_tokens\"))\n",
    ").drop(\"sem_tokens\")\n",
    "print(df_semantic.columns)\n",
    "df_semantic.select(\"final_tokens\").show(5, truncate=False)\n"
   ]
  },
  {
   "cell_type": "code",
   "execution_count": 8,
   "id": "933cb2a6",
   "metadata": {},
   "outputs": [
    {
     "name": "stdout",
     "output_type": "stream",
     "text": [
      "\n",
      "============================== numFeatures=9820 ==============================\n"
     ]
    },
    {
     "name": "stderr",
     "output_type": "stream",
     "text": [
      "                                                                                \r"
     ]
    },
    {
     "name": "stdout",
     "output_type": "stream",
     "text": [
      "['id', 'topics', 'features']\n",
      "\n",
      "============================== k=5 ==============================\n",
      "\n",
      "KMeans\n"
     ]
    },
    {
     "name": "stderr",
     "output_type": "stream",
     "text": [
      "                                                                                \r"
     ]
    },
    {
     "name": "stdout",
     "output_type": "stream",
     "text": [
      "Purity: 0.5256\n",
      "Entropy: 4.0193\n",
      "\n",
      "BisectingKMeans\n"
     ]
    },
    {
     "name": "stderr",
     "output_type": "stream",
     "text": [
      "                                                                                \r"
     ]
    },
    {
     "name": "stdout",
     "output_type": "stream",
     "text": [
      "Purity: 0.4946\n",
      "Entropy: 4.7230\n",
      "\n",
      "============================== k=6 ==============================\n",
      "\n",
      "KMeans\n"
     ]
    },
    {
     "name": "stderr",
     "output_type": "stream",
     "text": [
      "                                                                                \r"
     ]
    },
    {
     "name": "stdout",
     "output_type": "stream",
     "text": [
      "Purity: 0.5268\n",
      "Entropy: 3.6821\n",
      "\n",
      "BisectingKMeans\n"
     ]
    },
    {
     "name": "stderr",
     "output_type": "stream",
     "text": [
      "                                                                                \r"
     ]
    },
    {
     "name": "stdout",
     "output_type": "stream",
     "text": [
      "Purity: 0.4946\n",
      "Entropy: 4.1645\n",
      "\n",
      "============================== k=7 ==============================\n",
      "\n",
      "KMeans\n"
     ]
    },
    {
     "name": "stderr",
     "output_type": "stream",
     "text": [
      "                                                                                \r"
     ]
    },
    {
     "name": "stdout",
     "output_type": "stream",
     "text": [
      "Purity: 0.5233\n",
      "Entropy: 3.9494\n",
      "\n",
      "BisectingKMeans\n"
     ]
    },
    {
     "name": "stderr",
     "output_type": "stream",
     "text": [
      "                                                                                \r"
     ]
    },
    {
     "name": "stdout",
     "output_type": "stream",
     "text": [
      "Purity: 0.5107\n",
      "Entropy: 4.2806\n",
      "\n",
      "============================== k=8 ==============================\n",
      "\n",
      "KMeans\n"
     ]
    },
    {
     "name": "stderr",
     "output_type": "stream",
     "text": [
      "                                                                                \r"
     ]
    },
    {
     "name": "stdout",
     "output_type": "stream",
     "text": [
      "Purity: 0.5254\n",
      "Entropy: 2.8705\n",
      "\n",
      "BisectingKMeans\n"
     ]
    },
    {
     "name": "stderr",
     "output_type": "stream",
     "text": [
      "                                                                                \r"
     ]
    },
    {
     "name": "stdout",
     "output_type": "stream",
     "text": [
      "Purity: 0.5107\n",
      "Entropy: 4.5036\n",
      "✅ Đã lưu kết quả vào 'results.csv'\n"
     ]
    }
   ],
   "source": [
    "from pyspark.ml.clustering import KMeans, BisectingKMeans\n",
    "from pyspark.sql.functions import col, split, explode, log2, countDistinct\n",
    "def calculate_purity_entropy(df, label_col=\"topic\", pred_col=\"prediction\"):\n",
    "    df_unique = df.select(\"id\", pred_col, label_col).dropDuplicates([\"id\"])\n",
    "    total = df_unique.select(\"id\").distinct().count()\n",
    "    if total == 0:\n",
    "        return None, None\n",
    "    counts = df.groupBy(pred_col, label_col).count()\n",
    "    cluster_sizes = df.select(pred_col, \"id\").dropDuplicates([\"id\", pred_col]) \\\n",
    "    .groupBy(pred_col) \\\n",
    "    .agg(countDistinct(\"id\").alias(\"cluster_total\"))\n",
    "    joined = counts.join(cluster_sizes, pred_col)\n",
    "\n",
    "    max_counts = joined.groupBy(pred_col).agg({\"count\": \"max\"}).withColumnRenamed(\"max(count)\", \"max_count\")\n",
    "    total_purity = max_counts.agg({\"max_count\": \"sum\"}).collect()[0][0]\n",
    "    purity = total_purity / total\n",
    "\n",
    "    entropy_df = joined.withColumn(\"p\", col(\"count\") / col(\"cluster_total\"))\n",
    "    entropy_df = entropy_df.withColumn(\"p_log_p\", -col(\"p\") * log2(col(\"p\")))\n",
    "    entropy = entropy_df.groupBy(pred_col).agg({\"p_log_p\": \"sum\"}).agg({\"sum(p_log_p)\": \"avg\"}).collect()[0][0]\n",
    "\n",
    "    return purity, entropy\n",
    "results = []\n",
    "\n",
    "variant = \"Pos + worknet\"\n",
    "from pyspark.ml.feature import IDF, HashingTF\n",
    "numFeatures_stage = [9820]\n",
    "for i in numFeatures_stage:\n",
    "    print(f\"\\n============================== numFeatures={i} ==============================\")\n",
    "    hashingTF = HashingTF(inputCol=\"final_tokens\", outputCol=\"rawFeatures\", numFeatures=i)\n",
    "    idf = IDF(inputCol=\"rawFeatures\", outputCol=\"features\")\n",
    "    df_tf = hashingTF.transform(df_semantic)\n",
    "    idf_model = idf.fit(df_tf)\n",
    "    df_features = idf_model.transform(df_tf)\n",
    "    df_features = df_features.select(\"id\", \"topics\", \"features\")\n",
    "    print(df_features.columns)\n",
    "    # df_features.select(\"features\").show(5, truncate=False)\n",
    "\n",
    "\n",
    "    k_stage = [5,6,7,8]\n",
    "    for k in k_stage:\n",
    "        print(f\"\\n============================== k={k} ==============================\")\n",
    "        \n",
    "        print(f\"\\nKMeans\")\n",
    "        km = KMeans(k=k, featuresCol=\"features\", predictionCol=\"prediction\", seed=42)\n",
    "        pred_km = km.fit(df_features).transform(df_features)\n",
    "        \n",
    "        pred_km_filtered = pred_km.filter(col(\"topics\").isNotNull() & (col(\"topics\") != \"NaN\"))\n",
    "        pred_km_filtered = pred_km_filtered.withColumn(\"topics_array\", split(col(\"topics\"), \";\"))\n",
    "        pred_km_exploded = pred_km_filtered.withColumn(\"topic\", explode(col(\"topics_array\")))\n",
    "        \n",
    "        purity_km, entropy_km = calculate_purity_entropy(pred_km_exploded)\n",
    "        if purity_km is not None:\n",
    "            print(f\"Purity: {purity_km:.4f}\")\n",
    "            print(f\"Entropy: {entropy_km:.4f}\")\n",
    "            results.append({\n",
    "                \"k\": k,\n",
    "                \"method\": \"KMeans\",\n",
    "                \"variant\": variant,\n",
    "                \"purity\": purity_km,\n",
    "                \"entropy\": entropy_km\n",
    "            })\n",
    "\n",
    "\n",
    "        print(f\"\\nBisectingKMeans\")\n",
    "        bkm = BisectingKMeans(k=k, featuresCol=\"features\", predictionCol=\"prediction\", seed=42)\n",
    "        pred_bkm = bkm.fit(df_features).transform(df_features)\n",
    "        \n",
    "        pred_bkm_filtered = pred_bkm.filter(col(\"topics\").isNotNull() & (col(\"topics\") != \"NaN\"))\n",
    "        pred_bkm_filtered = pred_bkm_filtered.withColumn(\"topics_array\", split(col(\"topics\"), \";\"))\n",
    "        pred_bkm_exploded = pred_bkm_filtered.withColumn(\"topic\", explode(col(\"topics_array\")))\n",
    "        \n",
    "        purity_bkm, entropy_bkm = calculate_purity_entropy(pred_bkm_exploded)\n",
    "        if purity_bkm is not None:\n",
    "            print(f\"Purity: {purity_bkm:.4f}\")\n",
    "            print(f\"Entropy: {entropy_bkm:.4f}\")\n",
    "            results.append({\n",
    "                \"k\": k,\n",
    "                \"method\": \"BisectingKMeans\",\n",
    "                \"variant\": variant,\n",
    "                \"purity\": purity_bkm,\n",
    "                \"entropy\": entropy_bkm\n",
    "            })\n",
    "spark.stop()\n",
    "df_results = pd.DataFrame(results)\n",
    "df_results.to_csv(\"../Data/csv/results.csv\", index=False, mode=\"a\", header=False)\n",
    "print(\"✅ Đã lưu kết quả vào 'results.csv'\")\n"
   ]
  }
 ],
 "metadata": {
  "kernelspec": {
   "display_name": "3.10.16",
   "language": "python",
   "name": "python3"
  },
  "language_info": {
   "codemirror_mode": {
    "name": "ipython",
    "version": 3
   },
   "file_extension": ".py",
   "mimetype": "text/x-python",
   "name": "python",
   "nbconvert_exporter": "python",
   "pygments_lexer": "ipython3",
   "version": "3.10.16"
  }
 },
 "nbformat": 4,
 "nbformat_minor": 5
}
